{
  "nbformat": 4,
  "nbformat_minor": 0,
  "metadata": {
    "colab": {
      "name": "Quantum Computer.ipynb",
      "provenance": [],
      "collapsed_sections": [],
      "authorship_tag": "ABX9TyN1R6mp3IOPl7dNsu9rT0i4",
      "include_colab_link": true
    },
    "kernelspec": {
      "name": "python3",
      "display_name": "Python 3"
    }
  },
  "cells": [
    {
      "cell_type": "markdown",
      "metadata": {
        "id": "view-in-github",
        "colab_type": "text"
      },
      "source": [
        "<a href=\"https://colab.research.google.com/github/zaidsallam10/I_love_u_quantumly/blob/master/Quantum_Computer.ipynb\" target=\"_parent\"><img src=\"https://colab.research.google.com/assets/colab-badge.svg\" alt=\"Open In Colab\"/></a>"
      ]
    },
    {
      "cell_type": "code",
      "metadata": {
        "id": "L01e3iVbGNMy",
        "colab_type": "code",
        "outputId": "8d6c0f29-4806-41ef-83d5-6b95baa3e0ea",
        "colab": {
          "base_uri": "https://localhost:8080/",
          "height": 564
        }
      },
      "source": [
        "# !pip install qiskit\n",
        "# !pip install qiskit_ibmq_provider\n",
        "\n",
        "#Quantum physics concepts:-\n",
        "\n",
        "# (Superposition): anything it could be, (zero, one, both).\n",
        "#Ex: if we have a mug in superposition it could contain anything (Tea, Coffe, Water or all of them).\n",
        "\n",
        "\n",
        "\n",
        "# (Entanglement): if two Qbits are entangled, change in one causes change in the another one instanluiolsy.\n",
        "# apps: transforming information faster than the speed of light\n",
        "\n",
        "\n",
        "\n",
        "# Space/state size of classical computer VS quantum computer:\n",
        "  # Classifical: n_of_bits * 2 (because it is zero/one)\n",
        "\n",
        "  # Quantum: 2 ^ n_of_bits (that's fucking huge) (Exponential massive number of states)\n",
        "\n",
        "\n",
        "\n",
        "# Note:\n",
        "  # Quantum computer solves the impossible problems that can't be solved by classical computer or take a very long time.\n",
        "\n",
        "\n",
        "\n",
        "# Apps of Quantum:\n",
        "\n",
        "# 1. Encryption.\n",
        "# 2. Trying and getting vaccine for specefic virus.\n",
        "# 3. getting the factorial of large numbers.\n",
        "\n",
        "\n",
        "\n",
        "# let's solve this problem: (how to find best/optimal path of specefic maze)?\n",
        "  # if we apply classical: the computer will apply brute-force-manner by checking all possible paths one-by-one.\n",
        "  # if we apply quantum: the computer will check all paths (analyze all of them all at once)."
      ],
      "execution_count": 2,
      "outputs": [
        {
          "output_type": "stream",
          "text": [
            "Requirement already satisfied: qiskit_ibmq_provider in /usr/local/lib/python3.6/dist-packages (0.7.1)\n",
            "Requirement already satisfied: qiskit-terra>=0.13 in /usr/local/lib/python3.6/dist-packages (from qiskit_ibmq_provider) (0.14.1)\n",
            "Requirement already satisfied: requests-ntlm>=1.1.0 in /usr/local/lib/python3.6/dist-packages (from qiskit_ibmq_provider) (1.1.0)\n",
            "Requirement already satisfied: numpy>=1.13 in /usr/local/lib/python3.6/dist-packages (from qiskit_ibmq_provider) (1.18.4)\n",
            "Requirement already satisfied: websockets<8,>=7 in /usr/local/lib/python3.6/dist-packages (from qiskit_ibmq_provider) (7.0)\n",
            "Requirement already satisfied: urllib3>=1.21.1 in /usr/local/lib/python3.6/dist-packages (from qiskit_ibmq_provider) (1.24.3)\n",
            "Requirement already satisfied: python-dateutil>=2.8.0 in /usr/local/lib/python3.6/dist-packages (from qiskit_ibmq_provider) (2.8.1)\n",
            "Requirement already satisfied: requests>=2.19 in /usr/local/lib/python3.6/dist-packages (from qiskit_ibmq_provider) (2.23.0)\n",
            "Requirement already satisfied: nest-asyncio!=1.1.0,>=1.0.0 in /usr/local/lib/python3.6/dist-packages (from qiskit_ibmq_provider) (1.3.3)\n",
            "Requirement already satisfied: scipy>=1.4 in /usr/local/lib/python3.6/dist-packages (from qiskit-terra>=0.13->qiskit_ibmq_provider) (1.4.1)\n",
            "Requirement already satisfied: marshmallow-polyfield<6,>=5.7 in /usr/local/lib/python3.6/dist-packages (from qiskit-terra>=0.13->qiskit_ibmq_provider) (5.9)\n",
            "Requirement already satisfied: retworkx>=0.3.2 in /usr/local/lib/python3.6/dist-packages (from qiskit-terra>=0.13->qiskit_ibmq_provider) (0.3.4)\n",
            "Requirement already satisfied: networkx>=2.2; python_version > \"3.5\" in /usr/local/lib/python3.6/dist-packages (from qiskit-terra>=0.13->qiskit_ibmq_provider) (2.4)\n",
            "Requirement already satisfied: python-constraint>=1.4 in /usr/local/lib/python3.6/dist-packages (from qiskit-terra>=0.13->qiskit_ibmq_provider) (1.4.0)\n",
            "Requirement already satisfied: sympy>=1.3 in /usr/local/lib/python3.6/dist-packages (from qiskit-terra>=0.13->qiskit_ibmq_provider) (1.6)\n",
            "Requirement already satisfied: ply>=3.10 in /usr/local/lib/python3.6/dist-packages (from qiskit-terra>=0.13->qiskit_ibmq_provider) (3.11)\n",
            "Requirement already satisfied: psutil>=5 in /usr/local/lib/python3.6/dist-packages (from qiskit-terra>=0.13->qiskit_ibmq_provider) (5.4.8)\n",
            "Requirement already satisfied: marshmallow<4,>=3 in /usr/local/lib/python3.6/dist-packages (from qiskit-terra>=0.13->qiskit_ibmq_provider) (3.6.0)\n",
            "Requirement already satisfied: jsonschema>=2.6 in /usr/local/lib/python3.6/dist-packages (from qiskit-terra>=0.13->qiskit_ibmq_provider) (2.6.0)\n",
            "Requirement already satisfied: fastjsonschema>=2.10 in /usr/local/lib/python3.6/dist-packages (from qiskit-terra>=0.13->qiskit_ibmq_provider) (2.14.4)\n",
            "Requirement already satisfied: dill>=0.3 in /usr/local/lib/python3.6/dist-packages (from qiskit-terra>=0.13->qiskit_ibmq_provider) (0.3.1.1)\n",
            "Requirement already satisfied: ntlm-auth>=1.0.2 in /usr/local/lib/python3.6/dist-packages (from requests-ntlm>=1.1.0->qiskit_ibmq_provider) (1.4.0)\n",
            "Requirement already satisfied: cryptography>=1.3 in /usr/local/lib/python3.6/dist-packages (from requests-ntlm>=1.1.0->qiskit_ibmq_provider) (2.9.2)\n",
            "Requirement already satisfied: six>=1.5 in /usr/local/lib/python3.6/dist-packages (from python-dateutil>=2.8.0->qiskit_ibmq_provider) (1.12.0)\n",
            "Requirement already satisfied: idna<3,>=2.5 in /usr/local/lib/python3.6/dist-packages (from requests>=2.19->qiskit_ibmq_provider) (2.9)\n",
            "Requirement already satisfied: chardet<4,>=3.0.2 in /usr/local/lib/python3.6/dist-packages (from requests>=2.19->qiskit_ibmq_provider) (3.0.4)\n",
            "Requirement already satisfied: certifi>=2017.4.17 in /usr/local/lib/python3.6/dist-packages (from requests>=2.19->qiskit_ibmq_provider) (2020.4.5.1)\n",
            "Requirement already satisfied: decorator>=4.3.0 in /usr/local/lib/python3.6/dist-packages (from networkx>=2.2; python_version > \"3.5\"->qiskit-terra>=0.13->qiskit_ibmq_provider) (4.4.2)\n",
            "Requirement already satisfied: mpmath>=0.19 in /usr/local/lib/python3.6/dist-packages (from sympy>=1.3->qiskit-terra>=0.13->qiskit_ibmq_provider) (1.1.0)\n",
            "Requirement already satisfied: cffi!=1.11.3,>=1.8 in /usr/local/lib/python3.6/dist-packages (from cryptography>=1.3->requests-ntlm>=1.1.0->qiskit_ibmq_provider) (1.14.0)\n",
            "Requirement already satisfied: pycparser in /usr/local/lib/python3.6/dist-packages (from cffi!=1.11.3,>=1.8->cryptography>=1.3->requests-ntlm>=1.1.0->qiskit_ibmq_provider) (2.20)\n"
          ],
          "name": "stdout"
        }
      ]
    },
    {
      "cell_type": "code",
      "metadata": {
        "id": "DR8fOGSzQMe9",
        "colab_type": "code",
        "outputId": "3a38e957-8363-4f35-e720-5fa0a7d2dd3b",
        "colab": {
          "base_uri": "https://localhost:8080/",
          "height": 239
        }
      },
      "source": [
        "import qiskit as q\n",
        "# import matplotlib as plot\n",
        "%matplotlib inline\n",
        "\n",
        "\n",
        "circuit= q.QuantumCircuit(2,2) # 2 quibits , 2 classical bits\n",
        "\n",
        "# currently (0,0)\n",
        "circuit.x(0) # FLipping value of first value\n",
        "# now (1,0)\n",
        "\n",
        "\n",
        "circuit.cx(0,1) #CNOT or controlled not, Flips 2nd quibit value IFF and only IFF 1st value is equal= 1\n",
        "\n",
        "# let's check what's in the coffe mug hahaha\n",
        "circuit.measure([0,1],[0,1])\n",
        "\n",
        "circuit.draw(output='mpl')"
      ],
      "execution_count": 3,
      "outputs": [
        {
          "output_type": "stream",
          "text": [
            "/usr/local/lib/python3.6/dist-packages/qiskit/__init__.py:64: RuntimeWarning: Could not import the Aer provider from the qiskit-aer package. Install qiskit-aer or check your installation.\n",
            "  RuntimeWarning)\n"
          ],
          "name": "stderr"
        },
        {
          "output_type": "execute_result",
          "data": {
            "image/png": "[encoded data removed]",
            "text/plain": [
              "<Figure size 418.992x204.68 with 1 Axes>"
            ]
          },
          "metadata": {
            "tags": []
          },
          "execution_count": 3
        }
      ]
    },
    {
      "cell_type": "code",
      "metadata": {
        "id": "_MYdQzX_UQjS",
        "colab_type": "code",
        "outputId": "5552680d-b2e0-40e7-bcab-875cf20045dc",
        "colab": {
          "base_uri": "https://localhost:8080/",
          "height": 374
        }
      },
      "source": [
        "from qiskit import IBMQ\n",
        "import pandas as pd\n",
        "IBMQ.save_account(\"2f25c1bbc544aeb26689f8d9dc9bca227c0c5099780913fd87dbf704a1716a9bdf1734de5eefb6a9ea552801830b4f4f4911ad216b9a8d412fbdf8903bdeab00\")\n",
        "IBMQ.load_account()\n",
        "\n",
        "\n",
        "provider=IBMQ.get_provider('ibm-q')\n",
        "qubits_dataframe=pd.DataFrame(columns=['backend_name', 'qued_qubits', 'number_of_qubits'])\n",
        "for backend in provider.backends():\n",
        "  try:\n",
        "    qubits_count=len(backend.properties().qubits)\n",
        "  except:\n",
        "    qubits_count=\"simulated\"\n",
        "  # qubits_dataframe['backend_name']=backend.name()\n",
        "  # qubits_dataframe['qued_qubits']=backend.status().pending_jobs\n",
        "  # qubits_dataframe['number_of_qubits']=qubits_count\n",
        "  qubits_dataframe = qubits_dataframe.append({'backend_name':backend.name(),'qued_qubits':backend.status().pending_jobs,'number_of_qubits':qubits_count},ignore_index=True)\n",
        "  print(backend.name(),'has ',backend.status().pending_jobs,\"qbits qued\",' and has ',qubits_count,'#_of_qubits')\n",
        "print(qubits_dataframe)"
      ],
      "execution_count": 4,
      "outputs": [
        {
          "output_type": "stream",
          "text": [
            "ibmq_qasm_simulator has  0 qbits qued  and has  simulated #_of_qubits\n",
            "ibmqx2 has  10 qbits qued  and has  5 #_of_qubits\n",
            "ibmq_16_melbourne has  13 qbits qued  and has  15 #_of_qubits\n",
            "ibmq_vigo has  6 qbits qued  and has  5 #_of_qubits\n",
            "ibmq_ourense has  3 qbits qued  and has  5 #_of_qubits\n",
            "ibmq_london has  6 qbits qued  and has  5 #_of_qubits\n",
            "ibmq_burlington has  3 qbits qued  and has  5 #_of_qubits\n",
            "ibmq_essex has  3 qbits qued  and has  5 #_of_qubits\n",
            "ibmq_armonk has  3 qbits qued  and has  1 #_of_qubits\n",
            "ibmq_rome has  10 qbits qued  and has  5 #_of_qubits\n",
            "          backend_name qued_qubits number_of_qubits\n",
            "0  ibmq_qasm_simulator           0        simulated\n",
            "1               ibmqx2          10                5\n",
            "2    ibmq_16_melbourne          13               15\n",
            "3            ibmq_vigo           6                5\n",
            "4         ibmq_ourense           3                5\n",
            "5          ibmq_london           6                5\n",
            "6      ibmq_burlington           3                5\n",
            "7           ibmq_essex           3                5\n",
            "8          ibmq_armonk           3                1\n",
            "9            ibmq_rome          10                5\n"
          ],
          "name": "stdout"
        }
      ]
    },
    {
      "cell_type": "code",
      "metadata": {
        "id": "niA1PKXWZvR1",
        "colab_type": "code",
        "outputId": "ce31f110-737a-4684-ebc8-46c5204de4fe",
        "colab": {
          "base_uri": "https://localhost:8080/",
          "height": 34
        }
      },
      "source": [
        "from qiskit.tools.monitor import job_monitor\n",
        "\n",
        "chosen_backend=provider.get_backend('ibmq_london')\n",
        "job= q.execute(circuit,chosen_backend,shots=100)\n",
        "job_monitor(job)"
      ],
      "execution_count": 12,
      "outputs": [
        {
          "output_type": "stream",
          "text": [
            "Job Status: job has successfully run\n"
          ],
          "name": "stdout"
        }
      ]
    },
    {
      "cell_type": "code",
      "metadata": {
        "id": "F6q3RMNZaHua",
        "colab_type": "code",
        "colab": {
          "base_uri": "https://localhost:8080/",
          "height": 331
        },
        "outputId": "49b0323e-a965-475a-a094-82501677eedc"
      },
      "source": [
        "from qiskit.visualization import plot_histogram\n",
        "\n",
        "\n",
        "result=job.result()\n",
        "counts=result.get_counts(circuit)\n",
        "plot_histogram([counts])"
      ],
      "execution_count": 13,
      "outputs": [
        {
          "output_type": "execute_result",
          "data": {
            "image/png": "[encoded data removed]",
            "text/plain": [
              "<Figure size 504x360 with 1 Axes>"
            ]
          },
          "metadata": {
            "tags": []
          },
          "execution_count": 13
        }
      ]
    }
  ]
}